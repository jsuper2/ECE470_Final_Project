{
 "cells": [
  {
   "cell_type": "code",
   "execution_count": 1,
   "metadata": {},
   "outputs": [],
   "source": [
    "import vrep\n",
    "import time\n",
    "import numpy as np\n",
    "from math import cos, sin\n",
    "from scipy.linalg import expm,logm\n",
    "from copy import copy as copy\n",
    "import hex_helper as hh\n",
    "import step_3 as ss"
   ]
  },
  {
   "cell_type": "code",
   "execution_count": 2,
   "metadata": {},
   "outputs": [
    {
     "name": "stdout",
     "output_type": "stream",
     "text": [
      "0\n",
      "[[17, 19, 21], [28, 30, 32], [38, 40, 42], [48, 50, 52], [58, 60, 62], [68, 70, 72]] [24, 35, 45, 55, 65, 75, 27]\n"
     ]
    }
   ],
   "source": [
    "# ======================================================================================================= #\n",
    "# ======================================= Start Simulation ============================================== #\n",
    "# ======================================================================================================= #\n",
    "\n",
    "# Close all open connections (Clear bad cache)\n",
    "vrep.simxFinish(-1)\n",
    "# Connect to V-REP (raise exception on failure)\n",
    "clientID = vrep.simxStart('127.0.0.1', 19997, True, True, 5000, 5)\n",
    "if clientID == -1:\n",
    "\traise Exception('Failed connecting to remote API server')\n",
    "\n",
    "print(clientID)\n",
    "# ======================================== Setup \"handle\"  =========================================== #\n",
    "handles, body_handles = hh.init_handles(clientID)\n",
    "\n",
    "# ======================================== Get a joint angle  ======================================== #\n",
    "# result, theta1 = vrep.simxGetJointPosition(clientID, handles[0][1], vrep.simx_opmode_blocking)\n",
    "# if result != vrep.simx_return_ok:\n",
    "#     raise Exception('could not get 1 joint variable')\n",
    "#\n",
    "# print(theta1)\n",
    "#\n",
    "# print(vrep.getJointMode(handles[0][0]))"
   ]
  },
  {
   "cell_type": "code",
   "execution_count": 3,
   "metadata": {},
   "outputs": [
    {
     "name": "stdout",
     "output_type": "stream",
     "text": [
      "==================== ** Simulation Ended ** ====================\n"
     ]
    }
   ],
   "source": [
    "# Close all open connections (Clear bad cache)\n",
    "vrep.simxFinish(-1)\n",
    "# Connect to V-REP (raise exception on failure)\n",
    "clientID = vrep.simxStart('127.0.0.1', 19997, True, True, 5000, 5)\n",
    "if clientID == -1:\n",
    "\traise Exception('Failed connecting to remote API server')\n",
    "\n",
    "# Start simulation\n",
    "vrep.simxStartSimulation(clientID, vrep.simx_opmode_oneshot)\n",
    "\n",
    "# ******************************** Your robot control code goes here  ******************************** #\n",
    "#print(get_joint(handles, body_handles))\n",
    "time.sleep(4)\n",
    "\n",
    "\n",
    "#vrep.simxSetJointTargetPosition(clientID, handles[5][2], 0, vrep.simx_opmode_oneshot)\n",
    "\n",
    "for i in range(6):\n",
    "    ss.step_3(ss.get_theta_matrix(np.array(0*np.pi/2)),clientID,handles)\n",
    "time.sleep(1)\n",
    "for i in range(6):\n",
    "    ss.step_3(ss.get_theta_matrix(np.array(1*np.pi/2)),clientID,handles)\n",
    "time.sleep(1)\n",
    "for i in range(6):\n",
    "    ss.step_3(ss.get_theta_matrix(np.array(2*np.pi/2)),clientID,handles)\n",
    "time.sleep(1)\n",
    "for i in range(6):\n",
    "    ss.step_3(ss.get_theta_matrix(np.array(3*np.pi/2)),clientID,handles)\n",
    "time.sleep(1)\n",
    "for i in range(6):\n",
    "    ss.step_3(ss.get_theta_matrix(np.array(np.pi/4)),clientID,handles)\n",
    "time.sleep(1)\n",
    "\n",
    "# time.sleep(2)\n",
    "\n",
    "\n",
    "# Stop simulation\n",
    "vrep.simxStopSimulation(clientID, vrep.simx_opmode_oneshot)\n",
    "# Before closing the connection to V-REP, make sure that the last command sent out had time to arrive. You can guarantee this with (for example):\n",
    "vrep.simxGetPingTime(clientID)\n",
    "# Close the connection to V-REP\n",
    "vrep.simxFinish(clientID)\n",
    "print(\"==================== ** Simulation Ended ** ====================\")\n",
    "\n",
    "# ======================================================================================================= #\n",
    "# ======================================== End Simulation =============================================== #\n",
    "# ======================================================================================================= #"
   ]
  },
  {
   "cell_type": "code",
   "execution_count": 4,
   "metadata": {},
   "outputs": [
    {
     "name": "stdout",
     "output_type": "stream",
     "text": [
      "0.05149697649731044\n",
      "0.07238155732083357\n",
      "0.11651167932822327\n"
     ]
    }
   ],
   "source": [
    "a1 = np.array([0.08000001311302185, 0.0, 0.003102347254753113])\n",
    "a2 = np.array([0.130264550447464, -5.960464477539063e-08, -0.00809653103351593])\n",
    "a3 = np.array([0.19294512271881104, -5.960464477539063e-08, 0.028100647032260895])\n",
    "a4 = np.array([0.20402440428733826, -5.125999450683594e-06, -0.08788306266069412])\n",
    "\n",
    "l2 = np.linalg.norm(a2-a1)\n",
    "print(l2)\n",
    "l3 = np.linalg.norm(a3-a2)\n",
    "print(l3)\n",
    "le = np.linalg.norm(a4-a3)\n",
    "print(le)"
   ]
  },
  {
   "cell_type": "code",
   "execution_count": 5,
   "metadata": {},
   "outputs": [
    {
     "ename": "NameError",
     "evalue": "name 'wasd_control' is not defined",
     "output_type": "error",
     "traceback": [
      "\u001b[1;31m---------------------------------------------------------------------------\u001b[0m",
      "\u001b[1;31mNameError\u001b[0m                                 Traceback (most recent call last)",
      "\u001b[1;32m<ipython-input-5-a1ca8e6c9e62>\u001b[0m in \u001b[0;36m<module>\u001b[1;34m\u001b[0m\n\u001b[1;32m----> 1\u001b[1;33m \u001b[0mwasd_control\u001b[0m\u001b[1;33m(\u001b[0m\u001b[1;33m)\u001b[0m\u001b[1;33m\u001b[0m\u001b[1;33m\u001b[0m\u001b[0m\n\u001b[0m",
      "\u001b[1;31mNameError\u001b[0m: name 'wasd_control' is not defined"
     ]
    }
   ],
   "source": [
    "wasd_control()"
   ]
  },
  {
   "cell_type": "code",
   "execution_count": null,
   "metadata": {},
   "outputs": [],
   "source": [
    "qwaswas"
   ]
  }
 ],
 "metadata": {
  "kernelspec": {
   "display_name": "Python 3",
   "language": "python",
   "name": "python3"
  },
  "language_info": {
   "codemirror_mode": {
    "name": "ipython",
    "version": 3
   },
   "file_extension": ".py",
   "mimetype": "text/x-python",
   "name": "python",
   "nbconvert_exporter": "python",
   "pygments_lexer": "ipython3",
   "version": "3.7.3"
  }
 },
 "nbformat": 4,
 "nbformat_minor": 2
}
