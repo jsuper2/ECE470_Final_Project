{
 "cells": [
  {
   "cell_type": "code",
   "execution_count": 1,
   "metadata": {},
   "outputs": [],
   "source": [
    "import vrep\n",
    "import time\n",
    "import numpy as np\n",
    "from math import cos, sin\n",
    "from scipy.linalg import expm,logm\n",
    "from copy import copy as copy\n",
    "import hex_helper as hh\n",
    "import step_3 as ss\n",
    "import matplotlib.pyplot as plt"
   ]
  },
  {
   "cell_type": "code",
   "execution_count": 2,
   "metadata": {},
   "outputs": [
    {
     "name": "stdout",
     "output_type": "stream",
     "text": [
      "0\n",
      "[[17, 19, 21], [28, 30, 32], [38, 40, 42], [48, 50, 52], [58, 60, 62], [68, 70, 72]] [24, 35, 45, 55, 65, 75, 27]\n"
     ]
    }
   ],
   "source": [
    "# ======================================================================================================= #\n",
    "# ======================================= Start Simulation ============================================== #\n",
    "# ======================================================================================================= #\n",
    "\n",
    "# Close all open connections (Clear bad cache)\n",
    "vrep.simxFinish(-1)\n",
    "# Connect to V-REP (raise exception on failure)\n",
    "clientID = vrep.simxStart('127.0.0.1', 19997, True, True, 5000, 5)\n",
    "if clientID == -1:\n",
    "\traise Exception('Failed connecting to remote API server')\n",
    "\n",
    "print(clientID)\n",
    "# ======================================== Setup \"handle\"  =========================================== #\n",
    "handles, body_handles = hh.init_handles(clientID)\n",
    "\n",
    "# ======================================== Get a joint angle  ======================================== #\n",
    "# result, theta1 = vrep.simxGetJointPosition(clientID, handles[0][1], vrep.simx_opmode_blocking)\n",
    "# if result != vrep.simx_return_ok:\n",
    "#     raise Exception('could not get 1 joint variable')\n",
    "#\n",
    "# print(theta1)\n",
    "#\n",
    "# print(vrep.getJointMode(handles[0][0]))"
   ]
  },
  {
   "cell_type": "code",
   "execution_count": 3,
   "metadata": {},
   "outputs": [
    {
     "name": "stdout",
     "output_type": "stream",
     "text": [
      "==================== ** Simulation Ended ** ====================\n"
     ]
    }
   ],
   "source": [
    "# Close all open connections (Clear bad cache)\n",
    "vrep.simxFinish(-1)\n",
    "# Connect to V-REP (raise exception on failure)\n",
    "clientID = vrep.simxStart('127.0.0.1', 19997, True, True, 5000, 5)\n",
    "if clientID == -1:\n",
    "\traise Exception('Failed connecting to remote API server')\n",
    "\n",
    "# Start simulation\n",
    "vrep.simxStartSimulation(clientID, vrep.simx_opmode_oneshot)\n",
    "\n",
    "# ******************************** Your robot control code goes here  ******************************** #\n",
    "#print(get_joint(handles, body_handles))\n",
    "time.sleep(4)\n",
    "\n",
    "\n",
    "#vrep.simxSetJointTargetPosition(clientID, handles[5][2], 0, vrep.simx_opmode_oneshot)\n",
    "\n",
    "# for i in range(6):\n",
    "#     ss.step_3(ss.get_theta_matrix(np.array(0*np.pi/2)),clientID,handles)\n",
    "# time.sleep(1)\n",
    "# for i in range(6):\n",
    "#     ss.step_3(ss.get_theta_matrix(np.array(1*np.pi/2)),clientID,handles)\n",
    "# time.sleep(1)\n",
    "# for i in range(6):\n",
    "#     ss.step_3(ss.get_theta_matrix(np.array(2*np.pi/2)),clientID,handles)\n",
    "# time.sleep(1)\n",
    "# for i in range(6):\n",
    "#     ss.step_3(ss.get_theta_matrix(np.array(3*np.pi/2)),clientID,handles)\n",
    "# time.sleep(1)\n",
    "# for i in range(6):\n",
    "#     ss.step_3(ss.get_theta_matrix(np.array(np.pi/4)),clientID,handles)\n",
    "# time.sleep(1)\n",
    "pos = np.zeros([3,40])\n",
    "\n",
    "for i in range(40):\n",
    "    ss.step_3(ss.get_theta_matrix(np.array(i*np.pi/20),0),clientID,handles)\n",
    "    result,vector=vrep.simxGetObjectPosition(clientID, body_handles[6],-1,vrep.simx_opmode_blocking)\n",
    "    pos[:,i]=vector\n",
    "    \n",
    "# time.sleep(2)\n",
    "\n",
    "\n",
    "# Stop simulation\n",
    "vrep.simxStopSimulation(clientID, vrep.simx_opmode_oneshot)\n",
    "# Before closing the connection to V-REP, make sure that the last command sent out had time to arrive. You can guarantee this with (for example):\n",
    "vrep.simxGetPingTime(clientID)\n",
    "# Close the connection to V-REP\n",
    "vrep.simxFinish(clientID)\n",
    "print(\"==================== ** Simulation Ended ** ====================\")\n",
    "\n",
    "# ======================================================================================================= #\n",
    "# ======================================== End Simulation =============================================== #\n",
    "# ======================================================================================================= #"
   ]
  },
  {
   "cell_type": "code",
   "execution_count": 4,
   "metadata": {},
   "outputs": [
    {
     "name": "stdout",
     "output_type": "stream",
     "text": [
      "0.05149697649731044\n",
      "0.07238155732083357\n",
      "0.11651167932822327\n"
     ]
    }
   ],
   "source": [
    "a1 = np.array([0.08000001311302185, 0.0, 0.003102347254753113])\n",
    "a2 = np.array([0.130264550447464, -5.960464477539063e-08, -0.00809653103351593])\n",
    "a3 = np.array([0.19294512271881104, -5.960464477539063e-08, 0.028100647032260895])\n",
    "a4 = np.array([0.20402440428733826, -5.125999450683594e-06, -0.08788306266069412])\n",
    "\n",
    "l2 = np.linalg.norm(a2-a1)\n",
    "print(l2)\n",
    "l3 = np.linalg.norm(a3-a2)\n",
    "print(l3)\n",
    "le = np.linalg.norm(a4-a3)\n",
    "print(le)"
   ]
  },
  {
   "cell_type": "code",
   "execution_count": null,
   "metadata": {},
   "outputs": [],
   "source": []
  },
  {
   "cell_type": "code",
   "execution_count": 5,
   "metadata": {},
   "outputs": [
    {
     "data": {
      "text/plain": [
       "array([[ 0.45723158,  0.4067893 ,  0.31312901,  0.20647064,  0.09818526,\n",
       "        -0.05072034, -0.19104163, -0.36479449, -0.5583083 , -0.76310724,\n",
       "        -0.97140598, -1.1620295 , -1.35429788, -1.51579201, -1.65273845,\n",
       "        -1.75662756, -1.83552873, -1.90997553, -1.94871759, -1.95031643,\n",
       "        -1.93207967, -1.8692975 , -1.76559448, -1.62701321, -1.47449517,\n",
       "        -1.29732108, -1.11157513, -0.92874503, -0.75337499, -0.56981862,\n",
       "        -0.41379124, -0.24691662, -0.10465397,  0.05101953,  0.17667022,\n",
       "         0.30518994,  0.39778045,  0.45814672,  0.49577624,  0.4973492 ],\n",
       "       [ 0.1770974 ,  0.34819239,  0.53881764,  0.71985167,  0.86300367,\n",
       "         0.99645168,  1.08498836,  1.17092824,  1.22086227,  1.25334132,\n",
       "         1.27086389,  1.26383412,  1.22557664,  1.13288105,  0.9858796 ,\n",
       "         0.83024484,  0.67027235,  0.4826265 ,  0.30371702,  0.10003172,\n",
       "        -0.09266505, -0.27899075, -0.46242282, -0.62282819, -0.76121044,\n",
       "        -0.87825245, -0.96203655, -1.00037372, -1.00098968, -0.97002065,\n",
       "        -0.92276108, -0.84614855, -0.75240374, -0.6298483 , -0.48535898,\n",
       "        -0.31322485, -0.12913504,  0.07577413,  0.28622645,  0.4777284 ],\n",
       "       [ 0.08578631,  0.08411548,  0.08622481,  0.08627134,  0.08527496,\n",
       "         0.08603436,  0.08390468,  0.08560654,  0.08547527,  0.08379571,\n",
       "         0.08445255,  0.08246377,  0.08487803,  0.08326764,  0.08582542,\n",
       "         0.08608815,  0.08518232,  0.08596668,  0.08651905,  0.08577665,\n",
       "         0.08548313,  0.08259842,  0.08520111,  0.08173048,  0.08223598,\n",
       "         0.0821785 ,  0.08525031,  0.0835894 ,  0.08411177,  0.08518248,\n",
       "         0.08511989,  0.08659108,  0.0845342 ,  0.08353125,  0.08292735,\n",
       "         0.08270106,  0.08467209,  0.08255728,  0.08242814,  0.08230257]])"
      ]
     },
     "execution_count": 5,
     "metadata": {},
     "output_type": "execute_result"
    }
   ],
   "source": [
    "pos"
   ]
  },
  {
   "cell_type": "code",
   "execution_count": 6,
   "metadata": {},
   "outputs": [
    {
     "data": {
      "text/plain": [
       "(-1.375, 1.375)"
      ]
     },
     "execution_count": 6,
     "metadata": {},
     "output_type": "execute_result"
    },
    {
     "data": {
      "image/png": "[encoded data removed]",
      "text/plain": [
       "<Figure size 475.2x475.2 with 1 Axes>"
      ]
     },
     "metadata": {
      "needs_background": "light"
     },
     "output_type": "display_data"
    }
   ],
   "source": [
    "posxy = pos[0:2,:]\n",
    "\n",
    "theta = np.linspace(0, 2*np.pi, 100)\n",
    "circx = 1.2*np.cos(theta)-0.75\n",
    "circy = 1.2*np.sin(theta)\n",
    "\n",
    "plt.figure(figsize=[6.6,6.6])\n",
    "plt.plot(posxy[0,:],posxy[1,:])\n",
    "plt.plot(circx,circy,linestyle='dotted')\n",
    "plt.xlim(-2.125, 0.625)\n",
    "plt.ylim(-1.375, 1.375)"
   ]
  },
  {
   "cell_type": "code",
   "execution_count": null,
   "metadata": {},
   "outputs": [],
   "source": []
  }
 ],
 "metadata": {
  "kernelspec": {
   "display_name": "Python 3",
   "language": "python",
   "name": "python3"
  },
  "language_info": {
   "codemirror_mode": {
    "name": "ipython",
    "version": 3
   },
   "file_extension": ".py",
   "mimetype": "text/x-python",
   "name": "python",
   "nbconvert_exporter": "python",
   "pygments_lexer": "ipython3",
   "version": "3.7.3"
  }
 },
 "nbformat": 4,
 "nbformat_minor": 2
}
