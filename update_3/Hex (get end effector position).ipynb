{
 "cells": [
  {
   "cell_type": "code",
   "execution_count": 2,
   "metadata": {},
   "outputs": [],
   "source": [
    "import vrep\n",
    "import time\n",
    "import numpy as np\n",
    "from math import cos, sin\n",
    "from scipy.linalg import expm,logm\n",
    "from copy import copy as copy\n",
    "import hex_helper as hh\n",
    "import step_3 as ss"
   ]
  },
  {
   "cell_type": "code",
   "execution_count": 4,
   "metadata": {},
   "outputs": [
    {
     "name": "stdout",
     "output_type": "stream",
     "text": [
      "0\n",
      "[[17, 19, 21], [28, 30, 32], [38, 40, 42], [48, 50, 52], [58, 60, 62], [68, 70, 72]] [24, 35, 45, 55, 65, 75, 27]\n"
     ]
    }
   ],
   "source": [
    "# ======================================================================================================= #\n",
    "# ======================================= Start Simulation ============================================== #\n",
    "# ======================================================================================================= #\n",
    "\n",
    "# Close all open connections (Clear bad cache)\n",
    "vrep.simxFinish(-1)\n",
    "# Connect to V-REP (raise exception on failure)\n",
    "clientID = vrep.simxStart('127.0.0.1', 19997, True, True, 5000, 5)\n",
    "if clientID == -1:\n",
    "\traise Exception('Failed connecting to remote API server')\n",
    "\n",
    "print(clientID)\n",
    "# ======================================== Setup \"handle\"  =========================================== #\n",
    "handles, body_handles = hh.init_handles(clientID)"
   ]
  },
  {
   "cell_type": "code",
   "execution_count": 6,
   "metadata": {},
   "outputs": [
    {
     "name": "stdout",
     "output_type": "stream",
     "text": [
      "([0.08000001311302185, 0.13013768196105957, 0.2012782096862793, 0.3124360740184784], [-2.7939677238464355e-09, 0.0035504773259162903, 0.018231209367513657, 0.053879134356975555], [0.003102332353591919, -0.008100681006908417, -0.008094392716884613, 0.002968795597553253])\n",
      "([0.08000007271766663, 0.12840953469276428, 0.20033866167068481, 0.31702038645744324], [-2.0489096641540527e-08, 0.013532735407352448, 0.023650506511330605, 0.027501530945301056], [0.003102324903011322, -0.008099086582660675, -0.008099228143692017, 0.0029528960585594177])\n",
      "==================== ** Simulation Ended ** ====================\n"
     ]
    }
   ],
   "source": [
    "# Close all open connections (Clear bad cache)\n",
    "vrep.simxFinish(-1)\n",
    "# Connect to V-REP (raise exception on failure)\n",
    "clientID = vrep.simxStart('127.0.0.1', 19997, True, True, 5000, 5)\n",
    "if clientID == -1:\n",
    "\traise Exception('Failed connecting to remote API server')\n",
    "\n",
    "# Start simulation\n",
    "vrep.simxStartSimulation(clientID, vrep.simx_opmode_oneshot)\n",
    "\n",
    "# ******************************** Your robot control code goes here  ******************************** #\n",
    "print(hh.get_joint(handles, body_handles,clientID))\n",
    "time.sleep(4)\n",
    "\n",
    "vrep.simxSetJointTargetPosition(clientID, handles[0][0], np.radians(0), vrep.simx_opmode_oneshot)\n",
    "vrep.simxSetJointTargetPosition(clientID, handles[0][1], np.radians(0), vrep.simx_opmode_oneshot)\n",
    "vrep.simxSetJointTargetPosition(clientID, handles[0][2], np.radians(0), vrep.simx_opmode_oneshot)\n",
    "print(hh.get_joint(handles, body_handles,clientID))\n",
    "\n",
    "time.sleep(10)\n",
    "\n",
    "\n",
    "# Stop simulation\n",
    "vrep.simxStopSimulation(clientID, vrep.simx_opmode_oneshot)\n",
    "# Before closing the connection to V-REP, make sure that the last command sent out had time to arrive. You can guarantee this with (for example):\n",
    "vrep.simxGetPingTime(clientID)\n",
    "# Close the connection to V-REP\n",
    "vrep.simxFinish(clientID)\n",
    "print(\"==================== ** Simulation Ended ** ====================\")\n",
    "\n",
    "# ======================================================================================================= #\n",
    "# ======================================== End Simulation =============================================== #\n",
    "# ======================================================================================================= #"
   ]
  },
  {
   "cell_type": "code",
   "execution_count": 3,
   "metadata": {},
   "outputs": [
    {
     "name": "stdout",
     "output_type": "stream",
     "text": [
      "[ 0.05026454  0.         -0.01119888]\n",
      "[0.06268057 0.         0.03619718]\n",
      "[ 0.01107928  0.         -0.11598371]\n"
     ]
    }
   ],
   "source": [
    "a1 = np.array([0.07999998331069946, 0.000000007450580596,  0.003102332353591919])\n",
    "a2 = np.array([0.12840536236763555, 0.013532258570194244, -0.008097179234027863])\n",
    "a3 = np.array([0.19271773099899292, 0.022167865186929703,  0.02452348917722702])\n",
    "a4 = np.array([0.22692781686782837, 0.017045358195900917, -0.09304545819759369])\n",
    "\n",
    "l2 = (a2-a1)\n",
    "print(l2)\n",
    "l3 = (a3-a2)\n",
    "print(l3)\n",
    "le = (a4-a3)\n",
    "print(le)"
   ]
  },
  {
   "cell_type": "code",
   "execution_count": null,
   "metadata": {},
   "outputs": [],
   "source": []
  }
 ],
 "metadata": {
  "kernelspec": {
   "display_name": "Python 3",
   "language": "python",
   "name": "python3"
  },
  "language_info": {
   "codemirror_mode": {
    "name": "ipython",
    "version": 3
   },
   "file_extension": ".py",
   "mimetype": "text/x-python",
   "name": "python",
   "nbconvert_exporter": "python",
   "pygments_lexer": "ipython3",
   "version": "3.7.3"
  }
 },
 "nbformat": 4,
 "nbformat_minor": 2
}
