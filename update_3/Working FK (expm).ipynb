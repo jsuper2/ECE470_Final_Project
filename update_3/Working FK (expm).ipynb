{
 "cells": [
  {
   "cell_type": "code",
   "execution_count": 17,
   "metadata": {},
   "outputs": [
    {
     "ename": "SyntaxError",
     "evalue": "invalid syntax (<ipython-input-17-e73b424d0597>, line 4)",
     "output_type": "error",
     "traceback": [
      "\u001b[1;36m  File \u001b[1;32m\"<ipython-input-17-e73b424d0597>\"\u001b[1;36m, line \u001b[1;32m4\u001b[0m\n\u001b[1;33m    from scipy from linalg import expm as expm\u001b[0m\n\u001b[1;37m                  ^\u001b[0m\n\u001b[1;31mSyntaxError\u001b[0m\u001b[1;31m:\u001b[0m invalid syntax\n"
     ]
    }
   ],
   "source": [
    "import numpy as np\n",
    "from numpy import matmul as mm\n",
    "from numpy import transpose as tp\n",
    "from scipy import linalg "
   ]
  },
  {
   "cell_type": "code",
   "execution_count": 73,
   "metadata": {},
   "outputs": [],
   "source": [
    "theta1 = np.radians(0)\n",
    "theta2 = np.radians(-30)\n",
    "theta3 = np.radians(120)\n",
    "\n",
    "theta=[theta1,theta2,theta3]\n",
    "\n",
    "Y1 = 0\n",
    "Y2 = 0.05149697649731044\n",
    "Y3 = 0.07238155732083357\n",
    "Y4 = 0.11651167932822327\n",
    "Z4 = 0\n",
    "\n",
    "phi = np.radians(0)"
   ]
  },
  {
   "cell_type": "code",
   "execution_count": 74,
   "metadata": {},
   "outputs": [
    {
     "data": {
      "text/plain": [
       "array([ 0., -0.,  0.])"
      ]
     },
     "execution_count": 74,
     "metadata": {},
     "output_type": "execute_result"
    }
   ],
   "source": [
    "w1 = np.array([0,0,1])\n",
    "q1 = np.array([Y1*np.sin(phi),-Y1*np.cos(phi),0])\n",
    "v1 = np.cross(-w1,q1)\n",
    "v1"
   ]
  },
  {
   "cell_type": "code",
   "execution_count": 75,
   "metadata": {},
   "outputs": [
    {
     "data": {
      "text/plain": [
       "array([ 0.        , -0.05149698,  0.        ])"
      ]
     },
     "execution_count": 75,
     "metadata": {},
     "output_type": "execute_result"
    }
   ],
   "source": [
    "w2 = np.array([np.cos(phi),np.sin(phi),0])\n",
    "q2 = np.array([Y2*np.sin(phi),-Y2*np.cos(phi),0])+q1\n",
    "v2 = np.cross(-w2,q2)\n",
    "q2"
   ]
  },
  {
   "cell_type": "code",
   "execution_count": 76,
   "metadata": {},
   "outputs": [
    {
     "data": {
      "text/plain": [
       "array([ 0.        , -0.12387853,  0.        ])"
      ]
     },
     "execution_count": 76,
     "metadata": {},
     "output_type": "execute_result"
    }
   ],
   "source": [
    "w3 = np.array([np.cos(phi),np.sin(phi),0])\n",
    "q3 = np.array([Y3*np.sin(phi),-Y3*np.cos(phi),0])+q2\n",
    "v3 = np.cross(-w3,q3)\n",
    "q3"
   ]
  },
  {
   "cell_type": "code",
   "execution_count": 77,
   "metadata": {},
   "outputs": [
    {
     "data": {
      "text/plain": [
       "array([[ 0., -1.,  0.,  0.],\n",
       "       [ 1.,  0.,  0., -0.],\n",
       "       [ 0.,  0.,  0.,  0.],\n",
       "       [ 0.,  0.,  0.,  0.]])"
      ]
     },
     "execution_count": 77,
     "metadata": {},
     "output_type": "execute_result"
    }
   ],
   "source": [
    "S_mat1 = np.array([[     0,-w1[2], w1[1],v1[0]],\\\n",
    "                   [ w1[2],     0,-w1[0],v1[1]],\\\n",
    "                   [-w1[1], w1[0],     0,v1[2]],\\\n",
    "                   [     0,     0,     0,    0]])\n",
    "S_mat1"
   ]
  },
  {
   "cell_type": "code",
   "execution_count": 78,
   "metadata": {},
   "outputs": [
    {
     "data": {
      "text/plain": [
       "array([[ 0.        , -0.        ,  0.        , -0.        ],\n",
       "       [ 0.        ,  0.        , -1.        ,  0.        ],\n",
       "       [-0.        ,  1.        ,  0.        ,  0.05149698],\n",
       "       [ 0.        ,  0.        ,  0.        ,  0.        ]])"
      ]
     },
     "execution_count": 78,
     "metadata": {},
     "output_type": "execute_result"
    }
   ],
   "source": [
    "S_mat2 = np.array([[     0,-w2[2], w2[1],v2[0]],\\\n",
    "                   [ w2[2],     0,-w2[0],v2[1]],\\\n",
    "                   [-w2[1], w2[0],     0,v2[2]],\\\n",
    "                   [     0,     0,     0,    0]])\n",
    "S_mat2"
   ]
  },
  {
   "cell_type": "code",
   "execution_count": 79,
   "metadata": {},
   "outputs": [
    {
     "data": {
      "text/plain": [
       "array([[ 0.        , -0.        ,  0.        , -0.        ],\n",
       "       [ 0.        ,  0.        , -1.        ,  0.        ],\n",
       "       [-0.        ,  1.        ,  0.        ,  0.12387853],\n",
       "       [ 0.        ,  0.        ,  0.        ,  0.        ]])"
      ]
     },
     "execution_count": 79,
     "metadata": {},
     "output_type": "execute_result"
    }
   ],
   "source": [
    "S_mat3 = np.array([[     0,-w3[2], w3[1],v3[0]],\\\n",
    "                   [ w3[2],     0,-w3[0],v3[1]],\\\n",
    "                   [-w3[1], w3[0],     0,v3[2]],\\\n",
    "                   [     0,     0,     0,    0]])\n",
    "S_mat3"
   ]
  },
  {
   "cell_type": "code",
   "execution_count": 80,
   "metadata": {},
   "outputs": [
    {
     "data": {
      "text/plain": [
       "array([[ 1.        ,  0.        ,  0.        ,  0.        ],\n",
       "       [ 0.        ,  1.        ,  0.        , -0.24039021],\n",
       "       [ 0.        ,  0.        ,  1.        ,  0.        ],\n",
       "       [ 0.        ,  0.        ,  0.        ,  1.        ]])"
      ]
     },
     "execution_count": 80,
     "metadata": {},
     "output_type": "execute_result"
    }
   ],
   "source": [
    "q4 = np.array([Y4*np.sin(phi),-Y4*np.cos(phi),0])+q3\n",
    "M = np.array([[1,0,0,q4[0]],\\\n",
    "              [0,1,0,q4[1]],\\\n",
    "              [0,0,1,q4[2]],\\\n",
    "              [0,0,0,1]])\n",
    "M"
   ]
  },
  {
   "cell_type": "code",
   "execution_count": 81,
   "metadata": {},
   "outputs": [
    {
     "data": {
      "text/plain": [
       "array([[1., 0., 0., 0.],\n",
       "       [0., 1., 0., 0.],\n",
       "       [0., 0., 1., 0.],\n",
       "       [0., 0., 0., 1.]])"
      ]
     },
     "execution_count": 81,
     "metadata": {},
     "output_type": "execute_result"
    }
   ],
   "source": [
    "T1 = linalg.expm(S_mat1*theta[0])\n",
    "T1"
   ]
  },
  {
   "cell_type": "code",
   "execution_count": 82,
   "metadata": {},
   "outputs": [
    {
     "data": {
      "text/plain": [
       "array([[ 1.        ,  0.        ,  0.        ,  0.        ],\n",
       "       [ 0.        ,  0.8660254 ,  0.5       , -0.00689929],\n",
       "       [ 0.        , -0.5       ,  0.8660254 , -0.02574849],\n",
       "       [ 0.        ,  0.        ,  0.        ,  1.        ]])"
      ]
     },
     "execution_count": 82,
     "metadata": {},
     "output_type": "execute_result"
    }
   ],
   "source": [
    "T2 = linalg.expm(S_mat2*theta[1])\n",
    "T2"
   ]
  },
  {
   "cell_type": "code",
   "execution_count": 83,
   "metadata": {},
   "outputs": [
    {
     "data": {
      "text/plain": [
       "array([[ 1.        ,  0.        ,  0.        ,  0.        ],\n",
       "       [-0.        , -0.5       , -0.8660254 , -0.1858178 ],\n",
       "       [ 0.        ,  0.8660254 , -0.5       ,  0.10728196],\n",
       "       [ 0.        ,  0.        ,  0.        ,  1.        ]])"
      ]
     },
     "execution_count": 83,
     "metadata": {},
     "output_type": "execute_result"
    }
   ],
   "source": [
    "T3 = linalg.expm(S_mat3*theta[2])\n",
    "T3"
   ]
  },
  {
   "cell_type": "code",
   "execution_count": 84,
   "metadata": {},
   "outputs": [
    {
     "data": {
      "text/plain": [
       "array([ 0.        , -0.11418124, -0.0803209 ,  1.        ])"
      ]
     },
     "execution_count": 84,
     "metadata": {},
     "output_type": "execute_result"
    }
   ],
   "source": [
    "T = mm(T1,mm(T2,mm(T3,M)))\n",
    "T[:,3]"
   ]
  },
  {
   "cell_type": "code",
   "execution_count": null,
   "metadata": {},
   "outputs": [],
   "source": []
  },
  {
   "cell_type": "code",
   "execution_count": null,
   "metadata": {},
   "outputs": [],
   "source": []
  }
 ],
 "metadata": {
  "kernelspec": {
   "display_name": "Python 3",
   "language": "python",
   "name": "python3"
  },
  "language_info": {
   "codemirror_mode": {
    "name": "ipython",
    "version": 3
   },
   "file_extension": ".py",
   "mimetype": "text/x-python",
   "name": "python",
   "nbconvert_exporter": "python",
   "pygments_lexer": "ipython3",
   "version": "3.7.3"
  }
 },
 "nbformat": 4,
 "nbformat_minor": 2
}
