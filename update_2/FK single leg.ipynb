{
 "cells": [
  {
   "cell_type": "code",
   "execution_count": 1,
   "metadata": {},
   "outputs": [],
   "source": [
    "import numpy as np\n",
    "from numpy import matmul as mm\n",
    "from numpy import transpose as tp"
   ]
  },
  {
   "cell_type": "code",
   "execution_count": 39,
   "metadata": {},
   "outputs": [],
   "source": [
    "theta1 = 0\n",
    "# theta2 = -0.52359878\n",
    "# theta3 = 2.0943951\n",
    "theta2 = 0\n",
    "theta3 = -np.pi/2\n",
    "\n",
    "# l1 = 0\n",
    "# we = 0.11651167932822327\n",
    "# h1 = 0\n",
    "# de = 0\n",
    "# l2 = 0.05149697649731044\n",
    "# l3 = 0.07238155732083357\n",
    "# le = 0.11651167932822327\n",
    "\n",
    "Y1 = 0\n",
    "Y2 = 0.05149697649731044\n",
    "Y3 = 0.07238155732083357\n",
    "Y4 = 0.11651167932822327\n",
    "Z4 = 0\n",
    "\n",
    "\n",
    "\n",
    "phi = np.radians(0)"
   ]
  },
  {
   "cell_type": "code",
   "execution_count": 40,
   "metadata": {},
   "outputs": [],
   "source": [
    "def skewer_me(www):\n",
    "    return np.array([[0,-www[2],www[1]],[www[2],0,-www[1]],[-www[1],www[0],0]])\n",
    "\n",
    "def erot_wq(w,q,theta):\n",
    "    n = w.shape[1]\n",
    "    \n",
    "    #get yo vees\n",
    "    v = np.zeros(w.shape)\n",
    "    erots = np.zeros([n,4,4])\n",
    "    print(erots)\n",
    "    for i in range(n):\n",
    "        v[:,i] = np.cross(w[:,i],q[:,i])\n",
    "        wsk = skewer_me(w[:,i])\n",
    "        ewt = np.eye(3)+np.sin(theta[i])*wsk+(1-np.cos(theta[i]))*wsk**2\n",
    "        print(ewt)\n",
    "        other = (np.eye(3)*theta[i]+(1-np.cos(theta[i]))*wsk+(theta[i]-np.sin(theta[i]))*wsk**2)\n",
    "        erots[i,:3,:] = np.hstack((ewt,np.reshape(mm(other,v[:,i]),[3,1])))\n",
    "        erots[i,3,3] = 1\n",
    "    return erots"
   ]
  },
  {
   "cell_type": "code",
   "execution_count": 41,
   "metadata": {},
   "outputs": [],
   "source": [
    "omega = np.array([[0 , np.cos(phi) , np.cos(phi)],\\\n",
    "                  [0 , np.sin(phi) , np.sin(phi)],\\\n",
    "                  [1,0,0]])\n",
    "q = np.array([[ Y1*np.sin(phi) ,  Y2*np.sin(phi) ,  Y3*np.sin(phi)],\\\n",
    "              [-Y1*np.cos(phi) , -Y2*np.cos(phi) , -Y3*np.cos(phi)],\\\n",
    "              [0,0,0]])\n",
    "ttt = mm(q,np.ones(3))+np.array([Y4*np.sin(phi),-Y4*np.cos(phi),Z4])\n",
    "\n",
    "M = np.array([[np.cos(phi) , -np.sin(phi) , 0 , ttt[0]],\\\n",
    "              [np.sin(phi) , np.cos(phi) , 0 , ttt[1]],\\\n",
    "              [0,0,1,ttt[2]],\\\n",
    "              [0,0,0,1]])\n",
    "# thetas = [0,0,0]"
   ]
  },
  {
   "cell_type": "code",
   "execution_count": 42,
   "metadata": {},
   "outputs": [
    {
     "name": "stdout",
     "output_type": "stream",
     "text": [
      "[[[0. 0. 0. 0.]\n",
      "  [0. 0. 0. 0.]\n",
      "  [0. 0. 0. 0.]\n",
      "  [0. 0. 0. 0.]]\n",
      "\n",
      " [[0. 0. 0. 0.]\n",
      "  [0. 0. 0. 0.]\n",
      "  [0. 0. 0. 0.]\n",
      "  [0. 0. 0. 0.]]\n",
      "\n",
      " [[0. 0. 0. 0.]\n",
      "  [0. 0. 0. 0.]\n",
      "  [0. 0. 0. 0.]\n",
      "  [0. 0. 0. 0.]]]\n",
      "[[1. 0. 0.]\n",
      " [0. 1. 0.]\n",
      " [0. 0. 1.]]\n",
      "[[1. 0. 0.]\n",
      " [0. 1. 0.]\n",
      " [0. 0. 1.]]\n",
      "[[ 1.00000000e+00  0.00000000e+00  0.00000000e+00]\n",
      " [ 0.00000000e+00  1.00000000e+00  0.00000000e+00]\n",
      " [ 0.00000000e+00 -1.11022302e-16  1.00000000e+00]]\n"
     ]
    },
    {
     "data": {
      "text/plain": [
       "array([[[ 1.00000000e+00,  0.00000000e+00,  0.00000000e+00,\n",
       "          0.00000000e+00],\n",
       "        [ 0.00000000e+00,  1.00000000e+00,  0.00000000e+00,\n",
       "          0.00000000e+00],\n",
       "        [ 0.00000000e+00,  0.00000000e+00,  1.00000000e+00,\n",
       "          0.00000000e+00],\n",
       "        [ 0.00000000e+00,  0.00000000e+00,  0.00000000e+00,\n",
       "          1.00000000e+00]],\n",
       "\n",
       "       [[ 1.00000000e+00,  0.00000000e+00,  0.00000000e+00,\n",
       "          0.00000000e+00],\n",
       "        [ 0.00000000e+00,  1.00000000e+00,  0.00000000e+00,\n",
       "          0.00000000e+00],\n",
       "        [ 0.00000000e+00,  0.00000000e+00,  1.00000000e+00,\n",
       "          0.00000000e+00],\n",
       "        [ 0.00000000e+00,  0.00000000e+00,  0.00000000e+00,\n",
       "          1.00000000e+00]],\n",
       "\n",
       "       [[ 1.00000000e+00,  0.00000000e+00,  0.00000000e+00,\n",
       "          0.00000000e+00],\n",
       "        [ 0.00000000e+00,  1.00000000e+00,  0.00000000e+00,\n",
       "          0.00000000e+00],\n",
       "        [ 0.00000000e+00, -1.11022302e-16,  1.00000000e+00,\n",
       "          1.13696684e-01],\n",
       "        [ 0.00000000e+00,  0.00000000e+00,  0.00000000e+00,\n",
       "          1.00000000e+00]]])"
      ]
     },
     "execution_count": 42,
     "metadata": {},
     "output_type": "execute_result"
    }
   ],
   "source": [
    "thetas = [theta1,theta2,theta3]\n",
    "ET = erot_wq(omega,q,thetas)\n",
    "ET"
   ]
  },
  {
   "cell_type": "code",
   "execution_count": 43,
   "metadata": {},
   "outputs": [],
   "source": [
    "bigT = mm(ET[0,:,:],mm(ET[1,:,:],mm(ET[2,:,:],M)))"
   ]
  },
  {
   "cell_type": "code",
   "execution_count": 44,
   "metadata": {},
   "outputs": [
    {
     "data": {
      "text/plain": [
       "array([ 0.        , -0.24039021,  0.11369668,  1.        ])"
      ]
     },
     "execution_count": 44,
     "metadata": {},
     "output_type": "execute_result"
    }
   ],
   "source": [
    "mm(bigT,np.array([0,0,0,1]))"
   ]
  },
  {
   "cell_type": "code",
   "execution_count": 24,
   "metadata": {},
   "outputs": [
    {
     "name": "stdout",
     "output_type": "stream",
     "text": [
      "[9 9 9]\n",
      "[[9]\n",
      " [9]\n",
      " [9]]\n",
      "[[1 1 1 1 9]\n",
      " [2 2 2 2 9]\n",
      " [3 4 5 6 9]]\n"
     ]
    }
   ],
   "source": [
    "a = np.array([[1,1,1,1],[2,2,2,2],[3,4,5,6]])\n",
    "b = np.array([9,9,9])\n",
    "print(b)\n",
    "b = np.reshape(b,[3,1])\n",
    "print(b)\n",
    "d = np.hstack((a,b))\n",
    "print(d)\n",
    "c = np.array([9,9,9,9,9])"
   ]
  },
  {
   "cell_type": "code",
   "execution_count": null,
   "metadata": {},
   "outputs": [],
   "source": []
  }
 ],
 "metadata": {
  "kernelspec": {
   "display_name": "Python 3",
   "language": "python",
   "name": "python3"
  },
  "language_info": {
   "codemirror_mode": {
    "name": "ipython",
    "version": 3
   },
   "file_extension": ".py",
   "mimetype": "text/x-python",
   "name": "python",
   "nbconvert_exporter": "python",
   "pygments_lexer": "ipython3",
   "version": "3.7.3"
  }
 },
 "nbformat": 4,
 "nbformat_minor": 2
}
