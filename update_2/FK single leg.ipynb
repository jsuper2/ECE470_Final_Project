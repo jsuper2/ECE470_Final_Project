{
 "cells": [
  {
   "cell_type": "code",
   "execution_count": 2,
   "metadata": {},
   "outputs": [],
   "source": [
    "import numpy as np\n",
    "from numpy import matmul as mm"
   ]
  },
  {
   "cell_type": "code",
   "execution_count": 28,
   "metadata": {},
   "outputs": [],
   "source": [
    "theta1 = 0\n",
    "theta2 = -0.52359878\n",
    "theta3 = 2.0943951\n",
    "\n",
    "l1 = 0\n",
    "we = 0.11651167932822327\n",
    "h1 = 0\n",
    "de = 0\n",
    "\n",
    "l2 = 0.05149697649731044\n",
    "l3 = 0.07238155732083357\n",
    "le = 0.11651167932822327\n",
    "phi = np.radians(0)"
   ]
  },
  {
   "cell_type": "code",
   "execution_count": 29,
   "metadata": {},
   "outputs": [],
   "source": [
    "R01 = np.array([[np.cos(theta1+phi),-np.sin(theta1+phi),0],[np.sin(theta1+phi),np.cos(theta1+phi),0],[0,0,1]])\n",
    "T01 = np.array([[l1*np.cos(phi)],[l1*np.sin(phi)],[h1]])\n",
    "\n",
    "R12 = np.array([[1,0,0],[0,np.cos(theta2),-np.sin(theta2)],[0,np.sin(theta2),np.cos(theta2)]])\n",
    "T12 = np.array([[0],[-l2],[0]])\n",
    "\n",
    "R23 = np.array([[1,0,0],[0,np.cos(-theta3),-np.sin(theta3)],[0,np.sin(-theta3),np.cos(-theta3)]])\n",
    "T23 = np.array([[0],[-l3],[0]])\n",
    "\n",
    "R3e = np.array([[1,0,0],[0,0,-1],[0,1,0]])\n",
    "T3e = np.array([[0],[-le],[de]])"
   ]
  },
  {
   "cell_type": "code",
   "execution_count": 30,
   "metadata": {},
   "outputs": [],
   "source": [
    "M01 = np.array([[np.cos(theta1+phi),-np.sin(theta1+phi),0,l1*np.cos(phi)],\\\n",
    "                [np.sin(theta1+phi),np.cos(theta1+phi),0,l1*np.sin(phi)],\\\n",
    "                [0,0,1,h1],\\\n",
    "                [0,0,0,1]])\n",
    "\n",
    "M12 = np.array([[1,0,0,0],\\\n",
    "                [0,np.cos(theta2),-np.sin(theta2),-l2],\\\n",
    "                [0,np.sin(theta2),np.cos(theta2),0],\\\n",
    "                [0,0,0,1]])\n",
    "\n",
    "M23 = np.array([[1,0,0,0],\\\n",
    "                [0,np.cos(-theta3),-np.sin(theta3),l3],\\\n",
    "                [0,np.sin(-theta3),np.cos(-theta3),0],\\\n",
    "                [0,0,0,1]])\n",
    "\n",
    "M3e = np.array([[1,0,0,0],\\\n",
    "                [0,0,-1,-le],\\\n",
    "                [0,1,0,de],\\\n",
    "                [0,0,0,1]])"
   ]
  },
  {
   "cell_type": "code",
   "execution_count": 31,
   "metadata": {},
   "outputs": [
    {
     "data": {
      "text/plain": [
       "array([[0.],\n",
       "       [0.],\n",
       "       [0.]])"
      ]
     },
     "execution_count": 31,
     "metadata": {},
     "output_type": "execute_result"
    }
   ],
   "source": [
    "T01"
   ]
  },
  {
   "cell_type": "code",
   "execution_count": 32,
   "metadata": {},
   "outputs": [
    {
     "name": "stdout",
     "output_type": "stream",
     "text": [
      "[[0]\n",
      " [0]\n",
      " [0]]\n",
      "[[ 0.        ]\n",
      " [-0.11651168]\n",
      " [ 0.        ]]\n",
      "[[0.        ]\n",
      " [0.05825584]\n",
      " [0.10090207]]\n",
      "[[ 0.        ]\n",
      " [-0.01412572]\n",
      " [ 0.10090207]]\n",
      "[[0.        ]\n",
      " [0.03821781]\n",
      " [0.09444662]]\n",
      "[[ 0.        ]\n",
      " [-0.01327917]\n",
      " [ 0.09444662]]\n"
     ]
    },
    {
     "data": {
      "text/plain": [
       "array([[ 0.        ],\n",
       "       [-0.01327917],\n",
       "       [ 0.09444662]])"
      ]
     },
     "execution_count": 32,
     "metadata": {},
     "output_type": "execute_result"
    }
   ],
   "source": [
    "p = np.array([[0],[0],[0]]) #expect ~[2.2,-2.2,-.7] for [0,0,0] input\n",
    "p = mm(R3e,p)\n",
    "print(p)\n",
    "p = p+T3e\n",
    "print(p)\n",
    "p = mm(R23,p)\n",
    "print(p)\n",
    "p = p+T23\n",
    "print(p)\n",
    "p = mm(R12,p)\n",
    "print(p)\n",
    "p = p+T12\n",
    "print(p)\n",
    "p = mm(R01,p)\n",
    "p"
   ]
  },
  {
   "cell_type": "code",
   "execution_count": null,
   "metadata": {},
   "outputs": [],
   "source": []
  },
  {
   "cell_type": "code",
   "execution_count": 42,
   "metadata": {},
   "outputs": [
    {
     "data": {
      "text/plain": [
       "0.5"
      ]
     },
     "execution_count": 42,
     "metadata": {},
     "output_type": "execute_result"
    }
   ],
   "source": []
  },
  {
   "cell_type": "code",
   "execution_count": null,
   "metadata": {},
   "outputs": [],
   "source": []
  }
 ],
 "metadata": {
  "kernelspec": {
   "display_name": "Python 3",
   "language": "python",
   "name": "python3"
  },
  "language_info": {
   "codemirror_mode": {
    "name": "ipython",
    "version": 3
   },
   "file_extension": ".py",
   "mimetype": "text/x-python",
   "name": "python",
   "nbconvert_exporter": "python",
   "pygments_lexer": "ipython3",
   "version": "3.7.3"
  }
 },
 "nbformat": 4,
 "nbformat_minor": 2
}
