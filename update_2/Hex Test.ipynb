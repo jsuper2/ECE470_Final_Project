{
 "cells": [
  {
   "cell_type": "code",
   "execution_count": 9,
   "metadata": {},
   "outputs": [
    {
     "ename": "NameError",
     "evalue": "name 'leg_IK' is not defined",
     "output_type": "error",
     "traceback": [
      "\u001b[1;31m---------------------------------------------------------------------------\u001b[0m",
      "\u001b[1;31mNameError\u001b[0m                                 Traceback (most recent call last)",
      "\u001b[1;32m<ipython-input-9-4b330ef93ab3>\u001b[0m in \u001b[0;36m<module>\u001b[1;34m\u001b[0m\n\u001b[0;32m      6\u001b[0m \u001b[1;32mfrom\u001b[0m \u001b[0mcopy\u001b[0m \u001b[1;32mimport\u001b[0m \u001b[0mcopy\u001b[0m \u001b[1;32mas\u001b[0m \u001b[0mcopy\u001b[0m\u001b[1;33m\u001b[0m\u001b[1;33m\u001b[0m\u001b[0m\n\u001b[0;32m      7\u001b[0m \u001b[1;32mimport\u001b[0m \u001b[0mhex_helper\u001b[0m \u001b[1;32mas\u001b[0m \u001b[0mhh\u001b[0m\u001b[1;33m\u001b[0m\u001b[1;33m\u001b[0m\u001b[0m\n\u001b[1;32m----> 8\u001b[1;33m \u001b[1;32mimport\u001b[0m \u001b[0mstep_3\u001b[0m \u001b[1;32mas\u001b[0m \u001b[0mss\u001b[0m\u001b[1;33m\u001b[0m\u001b[1;33m\u001b[0m\u001b[0m\n\u001b[0m",
      "\u001b[1;32mc:\\Users\\Joshu\\OneDrive\\U of I\\Spring 2020\\ECE470\\ECE470_Final_Project\\update_2\\step_3.py\u001b[0m in \u001b[0;36m<module>\u001b[1;34m\u001b[0m\n\u001b[0;32m      8\u001b[0m \u001b[0mcenter\u001b[0m \u001b[1;33m=\u001b[0m \u001b[0mnp\u001b[0m\u001b[1;33m.\u001b[0m\u001b[0marray\u001b[0m\u001b[1;33m(\u001b[0m\u001b[1;33m[\u001b[0m\u001b[1;36m0.13086048\u001b[0m\u001b[1;33m,\u001b[0m\u001b[1;33m-\u001b[0m\u001b[1;36m0.13086048\u001b[0m\u001b[1;33m,\u001b[0m\u001b[1;33m-\u001b[0m\u001b[1;36m0.03120471\u001b[0m\u001b[1;33m]\u001b[0m\u001b[1;33m)\u001b[0m\u001b[1;33m\u001b[0m\u001b[1;33m\u001b[0m\u001b[0m\n\u001b[0;32m      9\u001b[0m \u001b[1;31m# edge = [ 0.05210302, -0.17757873 , 0.03120471]\u001b[0m\u001b[1;33m\u001b[0m\u001b[1;33m\u001b[0m\u001b[1;33m\u001b[0m\u001b[0m\n\u001b[1;32m---> 10\u001b[1;33m \u001b[0mtheta_center\u001b[0m \u001b[1;33m=\u001b[0m \u001b[0mleg_IK\u001b[0m\u001b[1;33m(\u001b[0m\u001b[0mcenter\u001b[0m\u001b[1;33m)\u001b[0m\u001b[1;33m\u001b[0m\u001b[1;33m\u001b[0m\u001b[0m\n\u001b[0m\u001b[0;32m     11\u001b[0m \u001b[0mradius_max\u001b[0m \u001b[1;33m=\u001b[0m \u001b[1;36m0.11\u001b[0m\u001b[1;33m\u001b[0m\u001b[1;33m\u001b[0m\u001b[0m\n\u001b[0;32m     12\u001b[0m \u001b[1;33m\u001b[0m\u001b[0m\n",
      "\u001b[1;31mNameError\u001b[0m: name 'leg_IK' is not defined"
     ]
    }
   ],
   "source": [
    "import vrep\n",
    "import time\n",
    "import numpy as np\n",
    "from math import cos, sin\n",
    "from scipy.linalg import expm,logm\n",
    "from copy import copy as copy\n",
    "import hex_helper as hh\n",
    "import step_3 as ss"
   ]
  },
  {
   "cell_type": "code",
   "execution_count": 7,
   "metadata": {},
   "outputs": [],
   "source": [
    "def handle_grabber(i,j):\n",
    "    result, handle = vrep.simxGetObjectHandle(clientID, f'hexa_joint{i+1}_{j}', vrep.simx_opmode_blocking)\n",
    "    if result != vrep.simx_return_ok:\n",
    "        raise Exception(f'could not get object handle for joint {i+1} of leg {j}')\n",
    "    return handle\n",
    "def init_handles():\n",
    "    body_handles = [0,0,0,0,0,0,0]\n",
    "    handles = [[handle_grabber(i,j) for i in range(3)] for j in range(6)]\n",
    "    \n",
    "    result, body_handles[6] = vrep.simxGetObjectHandle(clientID, 'hexa_body', vrep.simx_opmode_blocking)\n",
    "    if result != vrep.simx_return_ok:\n",
    "        raise Exception(f'could not get object handle for hexa body')\n",
    "        \n",
    "    for i in range(6):\n",
    "        result, body_handles[i] = vrep.simxGetObjectHandle(clientID, f'hexa_footTip{i}', vrep.simx_opmode_blocking)\n",
    "        if result != vrep.simx_return_ok:\n",
    "            raise Exception(f'could not get object handle for foot tip {i+1} ')\n",
    "    print(handles,body_handles)\n",
    "    return handles, body_handles"
   ]
  },
  {
   "cell_type": "code",
   "execution_count": 3,
   "metadata": {},
   "outputs": [],
   "source": [
    "\n",
    "\n",
    "def step_3(pos):\n",
    "    #starting positions\n",
    "    thetas1 = leg_IK([0.13086048,-0.13086048,-0.03120471]) #0.13086048,-0.13086048,-0.03120471\n",
    "    thetas2 = copy(thetas1)\n",
    "    thetas3 = copy(thetas1)\n",
    "    thetas4 = copy(thetas1)\n",
    "    #lift up \n",
    "    thetas2[0] = thetas1[0]\n",
    "    thetas2[1] = thetas1[1]\n",
    "    thetas2[2] = thetas1[2]+.4\n",
    "    #lift up \n",
    "    thetas3[0] = 0\n",
    "    thetas3[1] = thetas1[1]\n",
    "    thetas3[2] = thetas1[2]+.4\n",
    "    #\n",
    "    thetas4[0] = 0\n",
    "    thetas4[1] = thetas1[1]\n",
    "    thetas4[2] = thetas1[2]\n",
    "    \n",
    "    #print(thetas1,thetas2,thetas3)\n",
    "    #print('step')\n",
    "    move_leg(thetas2,0)\n",
    "    move_leg(thetas2,2)\n",
    "    move_leg(thetas2,4)\n",
    "    move_leg(thetas4,1)\n",
    "    move_leg(thetas4,3)\n",
    "    move_leg(thetas4,5)\n",
    "    time.sleep(.5)\n",
    "    move_leg(thetas3,0)\n",
    "    move_leg(thetas3,2)\n",
    "    move_leg(thetas3,4)\n",
    "    move_leg(thetas1,1)\n",
    "    move_leg(thetas1,3)\n",
    "    move_leg(thetas1,5)\n",
    "    time.sleep(.5)\n",
    "\n",
    "    move_leg(thetas4,0)\n",
    "    move_leg(thetas4,2)\n",
    "    move_leg(thetas4,4)\n",
    "    move_leg(thetas2,1)\n",
    "    move_leg(thetas2,3)\n",
    "    move_leg(thetas2,5)\n",
    "    time.sleep(.5)\n",
    "    move_leg(thetas1,0)\n",
    "    move_leg(thetas1,2)\n",
    "    move_leg(thetas1,4)\n",
    "    move_leg(thetas3,1)\n",
    "    move_leg(thetas3,3)\n",
    "    move_leg(thetas3,5)\n",
    "    time.sleep(.5)\n"
   ]
  },
  {
   "cell_type": "code",
   "execution_count": 4,
   "metadata": {},
   "outputs": [],
   "source": [
    "def get_joint(handles, body_handles):\n",
    "    X = []\n",
    "    Y = []\n",
    "    Z = []\n",
    "    result,vector=vrep.simxGetObjectPosition(clientID, handles[0][0],body_handles[6],vrep.simx_opmode_blocking)\n",
    "    X.append(vector[0])\n",
    "    Y.append(vector[1])\n",
    "    Z.append(vector[2])\n",
    "    print(vector)\n",
    "    result,vector=vrep.simxGetObjectPosition(clientID, handles[0][1],body_handles[6],vrep.simx_opmode_blocking)\n",
    "    X.append(vector[0])\n",
    "    Y.append(vector[1])\n",
    "    Z.append(vector[2])\n",
    "    print(vector)\n",
    "    result,vector=vrep.simxGetObjectPosition(clientID, handles[0][2],body_handles[6],vrep.simx_opmode_blocking)\n",
    "    X.append(vector[0])\n",
    "    Y.append(vector[1])\n",
    "    Z.append(vector[2])\n",
    "    print(vector)\n",
    "    result,vector=vrep.simxGetObjectPosition(clientID, body_handles[0],body_handles[6],vrep.simx_opmode_blocking)\n",
    "    X.append(vector[0])\n",
    "    Y.append(vector[1])\n",
    "    Z.append(vector[2])\n",
    "    print(vector)\n",
    "\n",
    "#     X = np.round(X, decimals = 6)\n",
    "#     Y = np.round(Y, decimals = 6)\n",
    "#     Z = np.round(Z, decimals = 6)\n",
    "    return X,Y,Z"
   ]
  },
  {
   "cell_type": "code",
   "execution_count": 5,
   "metadata": {},
   "outputs": [
    {
     "name": "stdout",
     "output_type": "stream",
     "text": "[[17, 19, 21], [28, 30, 32], [38, 40, 42], [48, 50, 52], [58, 60, 62], [68, 70, 72]] [24, 35, 45, 55, 65, 75, 27]\n"
    }
   ],
   "source": [
    "# ======================================================================================================= #\n",
    "# ======================================= Start Simulation ============================================== #\n",
    "# ======================================================================================================= #\n",
    "\n",
    "# Close all open connections (Clear bad cache)\n",
    "vrep.simxFinish(-1)\n",
    "# Connect to V-REP (raise exception on failure)\n",
    "clientID = vrep.simxStart('127.0.0.1', 19997, True, True, 5000, 5)\n",
    "if clientID == -1:\n",
    "\traise Exception('Failed connecting to remote API server')\n",
    "\n",
    "# ======================================== Setup \"handle\"  =========================================== #\n",
    "handles, body_handles = init_handles()\n",
    "\n",
    "\n",
    "# ======================================== Get a joint angle  ======================================== #\n",
    "# result, theta1 = vrep.simxGetJointPosition(clientID, handles[0][1], vrep.simx_opmode_blocking)\n",
    "# if result != vrep.simx_return_ok:\n",
    "#     raise Exception('could not get 1 joint variable')\n",
    "#\n",
    "# print(theta1)\n",
    "#\n",
    "# print(vrep.getJointMode(handles[0][0]))"
   ]
  },
  {
   "cell_type": "code",
   "execution_count": 6,
   "metadata": {},
   "outputs": [
    {
     "name": "stdout",
     "output_type": "stream",
     "text": "==================== ** Simulation Ended ** ====================\n"
    }
   ],
   "source": [
    "# Close all open connections (Clear bad cache)\n",
    "vrep.simxFinish(-1)\n",
    "# Connect to V-REP (raise exception on failure)\n",
    "clientID = vrep.simxStart('127.0.0.1', 19997, True, True, 5000, 5)\n",
    "if clientID == -1:\n",
    "\traise Exception('Failed connecting to remote API server')\n",
    "\n",
    "# Start simulation\n",
    "vrep.simxStartSimulation(clientID, vrep.simx_opmode_oneshot)\n",
    "\n",
    "# ******************************** Your robot control code goes here  ******************************** #\n",
    "#print(get_joint(handles, body_handles))\n",
    "time.sleep(4)\n",
    "\n",
    "\n",
    "#vrep.simxSetJointTargetPosition(clientID, handles[5][2], 0, vrep.simx_opmode_oneshot)\n",
    "\n",
    "\n",
    "# for x in handles:\n",
    "#     for y in x:\n",
    "#         vrep.simxSetJointTargetPosition(clientID, y, 0, vrep.simx_opmode_oneshot)\n",
    "# time.sleep(2)\n",
    "    \n",
    "for i in range(15):\n",
    "    step_3([0.13086048,-0.13086048,-0.03120471])\n",
    "# for i in range(20):\n",
    "#     vrep.simxSetJointTargetPosition(clientID, handles[0][1], -1, vrep.simx_opmode_oneshot)\n",
    "#     vrep.simxSetJointTargetPosition(clientID, handles[5][1], -1, vrep.simx_opmode_oneshot)\n",
    "#     time.sleep(.2)\n",
    "#     vrep.simxSetJointTargetPosition(clientID, handles[0][2], 2, vrep.simx_opmode_oneshot)\n",
    "#     vrep.simxSetJointTargetPosition(clientID, handles[5][2], 2, vrep.simx_opmode_oneshot)\n",
    "#     time.sleep(.2)\n",
    "#     vrep.simxSetJointTargetPosition(clientID, handles[0][1], 0, vrep.simx_opmode_oneshot)\n",
    "#     vrep.simxSetJointTargetPosition(clientID, handles[5][1], 0, vrep.simx_opmode_oneshot)\n",
    "#     time.sleep(.2)\n",
    "#     vrep.simxSetJointTargetPosition(clientID, handles[0][2], 0, vrep.simx_opmode_oneshot)\n",
    "#     vrep.simxSetJointTargetPosition(clientID, handles[5][2], 0, vrep.simx_opmode_oneshot)\n",
    "#     time.sleep(.2)\n",
    "# time.sleep(2)\n",
    "\n",
    "\n",
    "# Stop simulation\n",
    "vrep.simxStopSimulation(clientID, vrep.simx_opmode_oneshot)\n",
    "# Before closing the connection to V-REP, make sure that the last command sent out had time to arrive. You can guarantee this with (for example):\n",
    "vrep.simxGetPingTime(clientID)\n",
    "# Close the connection to V-REP\n",
    "vrep.simxFinish(clientID)\n",
    "print(\"==================== ** Simulation Ended ** ====================\")\n",
    "\n",
    "# ======================================================================================================= #\n",
    "# ======================================== End Simulation =============================================== #\n",
    "# ======================================================================================================= #"
   ]
  },
  {
   "cell_type": "code",
   "execution_count": null,
   "metadata": {},
   "outputs": [
    {
     "ename": "Error",
     "evalue": "Jupyter cannot be started. Error attempting to locate jupyter: ",
     "output_type": "error",
     "traceback": [
      "Error: Jupyter cannot be started. Error attempting to locate jupyter:",
      "at A.startServer (c:\\Users\\Joshu\\.vscode\\extensions\\ms-python.python-2020.2.64397\\out\\client\\extension.js:1:786120)",
      "at async A.ensureServerAndNotebookImpl (c:\\Users\\Joshu\\.vscode\\extensions\\ms-python.python-2020.2.64397\\out\\client\\extension.js:1:785575)"
     ]
    }
   ],
   "source": [
    "a1 = np.array([0.08000001311302185, 0.0, 0.003102347254753113])\n",
    "a2 = np.array([0.130264550447464, -5.960464477539063e-08, -0.00809653103351593])\n",
    "a3 = np.array([0.19294512271881104, -5.960464477539063e-08, 0.028100647032260895])\n",
    "a4 = np.array([0.20402440428733826, -5.125999450683594e-06, -0.08788306266069412])\n",
    "\n",
    "l2 = np.linalg.norm(a2-a1)\n",
    "print(l2)\n",
    "l3 = np.linalg.norm(a3-a2)\n",
    "print(l3)\n",
    "le = np.linalg.norm(a4-a3)\n",
    "print(le)"
   ]
  },
  {
   "cell_type": "code",
   "execution_count": null,
   "metadata": {},
   "outputs": [],
   "source": []
  }
 ],
 "metadata": {
  "kernelspec": {
   "display_name": "Python 3",
   "language": "python",
   "name": "python3"
  },
  "language_info": {
   "codemirror_mode": {
    "name": "ipython",
    "version": 3
   },
   "file_extension": ".py",
   "mimetype": "text/x-python",
   "name": "python",
   "nbconvert_exporter": "python",
   "pygments_lexer": "ipython3",
   "version": "3.7.3-final"
  }
 },
 "nbformat": 4,
 "nbformat_minor": 2
}