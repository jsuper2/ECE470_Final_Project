{
 "cells": [
  {
   "cell_type": "code",
   "execution_count": 2,
   "metadata": {},
   "outputs": [],
   "source": [
    "import numpy as np\n",
    "from numpy import matmul as mm"
   ]
  },
  {
   "cell_type": "code",
   "execution_count": 3,
   "metadata": {},
   "outputs": [],
   "source": [
    "\n",
    "l1 = 0\n",
    "l2 = 0.05149697649731044\n",
    "l3 = 0.07238155732083357\n",
    "we = 0.11651167932822327\n",
    "Z4 = 0\n",
    "\n",
    "# theta1 = np.radians(45)\n",
    "# theta2 = np.radians(-45)\n",
    "# theta3 = np.radians(-90)\n",
    "h1 = 0\n",
    "de = 0\n",
    "phi = np.radians(0)\n",
    "x = 0\n",
    "y = -.11\n",
    "z = -.08\n",
    "\n",
    "le = np.sqrt(we*we+de*de)"
   ]
  },
  {
   "cell_type": "code",
   "execution_count": 4,
   "metadata": {},
   "outputs": [
    {
     "data": {
      "text/plain": [
       "0.0"
      ]
     },
     "execution_count": 4,
     "metadata": {},
     "output_type": "execute_result"
    }
   ],
   "source": [
    "theta1 = np.arctan(x/np.abs(y))\n",
    "np.degrees(theta1)"
   ]
  },
  {
   "cell_type": "code",
   "execution_count": 5,
   "metadata": {},
   "outputs": [],
   "source": [
    "L1 = np.sqrt(x*x+y*y)\n",
    "L2 = (L1-l2)*(L1-l2)\n",
    "L = np.sqrt(z*z+L2)\n",
    "# alpha1 = np.arccos(z/L)\n",
    "# np.degrees(alpha1)"
   ]
  },
  {
   "cell_type": "code",
   "execution_count": 6,
   "metadata": {},
   "outputs": [
    {
     "data": {
      "text/plain": [
       "36.17754898275722"
      ]
     },
     "execution_count": 6,
     "metadata": {},
     "output_type": "execute_result"
    }
   ],
   "source": [
    "alpha1 = np.abs(np.arctan((L1-l2)/z))\n",
    "np.degrees(alpha1)"
   ]
  },
  {
   "cell_type": "code",
   "execution_count": 7,
   "metadata": {},
   "outputs": [
    {
     "data": {
      "text/plain": [
       "84.05212913040634"
      ]
     },
     "execution_count": 7,
     "metadata": {},
     "output_type": "execute_result"
    }
   ],
   "source": [
    "alpha2 = np.arccos((L*L+l3*l3-le*le)/(2*L*l3))\n",
    "np.degrees(alpha2)"
   ]
  },
  {
   "cell_type": "code",
   "execution_count": 8,
   "metadata": {},
   "outputs": [
    {
     "data": {
      "text/plain": [
       "30.229678113163576"
      ]
     },
     "execution_count": 8,
     "metadata": {},
     "output_type": "execute_result"
    }
   ],
   "source": [
    "theta2 = alpha1+alpha2-np.pi/2\n",
    "np.degrees(theta2)"
   ]
  },
  {
   "cell_type": "code",
   "execution_count": 9,
   "metadata": {},
   "outputs": [
    {
     "data": {
      "text/plain": [
       "57.78534641720225"
      ]
     },
     "execution_count": 9,
     "metadata": {},
     "output_type": "execute_result"
    }
   ],
   "source": [
    "beta = np.arccos((le*le+l3*l3-L*L)/(2*le*l3))\n",
    "np.degrees(beta)"
   ]
  },
  {
   "cell_type": "code",
   "execution_count": 10,
   "metadata": {},
   "outputs": [
    {
     "data": {
      "text/plain": [
       "0.0"
      ]
     },
     "execution_count": 10,
     "metadata": {},
     "output_type": "execute_result"
    }
   ],
   "source": [
    "gamma = np.arctan(de/we)\n",
    "np.degrees(gamma)"
   ]
  },
  {
   "cell_type": "code",
   "execution_count": 11,
   "metadata": {},
   "outputs": [
    {
     "data": {
      "text/plain": [
       "57.78534641720225"
      ]
     },
     "execution_count": 11,
     "metadata": {},
     "output_type": "execute_result"
    }
   ],
   "source": [
    "theta3 = beta-gamma\n",
    "np.degrees(theta3)"
   ]
  },
  {
   "cell_type": "code",
   "execution_count": 31,
   "metadata": {},
   "outputs": [],
   "source": [
    "def leg_IK(pos):\n",
    "    x = pos[0]\n",
    "    y = pos[1]\n",
    "    z = pos[2]\n",
    "#     l1 = 0\n",
    "    we = 0.11651167932822327\n",
    "#     h1 = 0\n",
    "    de = 0\n",
    "    l2 = 0.05149697649731044\n",
    "    l3 = 0.07238155732083357\n",
    "#     le = 0.11651167932822327\n",
    "\n",
    "    le = np.sqrt(we*we+de*de)\n",
    "    \n",
    "    theta1 = np.arctan(x/np.abs(y))\n",
    "    L1 = np.sqrt(x*x+y*y)\n",
    "    L2 = (L1-l2)*(L1-l2)\n",
    "    L = np.sqrt(z*z+L2)\n",
    "    print(L)\n",
    "    alpha1 = np.abs(np.arctan((L1-l2)/z))\n",
    "    print((L*L+l3*l3-le*le)/(2*L*l3))\n",
    "    alpha2 = np.arccos((L*L+l3*l3-le*le)/(2*L*l3))\n",
    "    theta2 = alpha1+alpha2-np.pi/2\n",
    "    beta = np.arccos((le*le+l3*l3-L*L)/(2*le*l3))\n",
    "    gamma = np.arctan(de/we)\n",
    "    theta3 = beta-gamma\n",
    "    return [theta1,-theta2,theta3*2]"
   ]
  },
  {
   "cell_type": "code",
   "execution_count": 32,
   "metadata": {},
   "outputs": [
    {
     "data": {
      "text/plain": [
       "0.0"
      ]
     },
     "execution_count": 32,
     "metadata": {},
     "output_type": "execute_result"
    }
   ],
   "source": [
    "np.degrees(theta1)"
   ]
  },
  {
   "cell_type": "code",
   "execution_count": 33,
   "metadata": {},
   "outputs": [
    {
     "data": {
      "text/plain": [
       "30.229678113163576"
      ]
     },
     "execution_count": 33,
     "metadata": {},
     "output_type": "execute_result"
    }
   ],
   "source": [
    "np.degrees(theta2)"
   ]
  },
  {
   "cell_type": "code",
   "execution_count": 34,
   "metadata": {},
   "outputs": [
    {
     "data": {
      "text/plain": [
       "57.78534641720225"
      ]
     },
     "execution_count": 34,
     "metadata": {},
     "output_type": "execute_result"
    }
   ],
   "source": [
    "np.degrees(theta3)"
   ]
  },
  {
   "cell_type": "code",
   "execution_count": 35,
   "metadata": {},
   "outputs": [
    {
     "data": {
      "text/plain": [
       "0.11081637105342558"
      ]
     },
     "execution_count": 35,
     "metadata": {},
     "output_type": "execute_result"
    }
   ],
   "source": [
    "center = np.array([0.13086048,-0.13086048,-0.03120471])\n",
    "edge = np.array([ 0.05210302, -0.17757873 , 0.03120471])\n",
    "\n",
    "np.linalg.norm(center-edge)"
   ]
  },
  {
   "cell_type": "code",
   "execution_count": 36,
   "metadata": {},
   "outputs": [
    {
     "name": "stdout",
     "output_type": "stream",
     "text": [
      "0.10176602599579963\n",
      "0.13714682381953694\n"
     ]
    },
    {
     "data": {
      "text/plain": [
       "array([  0.        , -30.00984395, 119.8081714 ])"
      ]
     },
     "execution_count": 36,
     "metadata": {},
     "output_type": "execute_result"
    }
   ],
   "source": [
    "np.degrees(leg_IK([ 0. , -0.114 , -0.08031]))"
   ]
  },
  {
   "cell_type": "code",
   "execution_count": 18,
   "metadata": {},
   "outputs": [
    {
     "data": {
      "text/plain": [
       "array([ 0.        , -0.52359878,  2.0943951 ])"
      ]
     },
     "execution_count": 18,
     "metadata": {},
     "output_type": "execute_result"
    }
   ],
   "source": [
    "np.radians([0.0, -30, 120])"
   ]
  },
  {
   "cell_type": "code",
   "execution_count": 19,
   "metadata": {},
   "outputs": [
    {
     "data": {
      "text/plain": [
       "2.0910470617223846"
      ]
     },
     "execution_count": 19,
     "metadata": {},
     "output_type": "execute_result"
    }
   ],
   "source": [
    "1.0455235308611923*2"
   ]
  },
  {
   "cell_type": "code",
   "execution_count": null,
   "metadata": {},
   "outputs": [],
   "source": []
  },
  {
   "cell_type": "code",
   "execution_count": null,
   "metadata": {},
   "outputs": [],
   "source": []
  }
 ],
 "metadata": {
  "kernelspec": {
   "display_name": "Python 3",
   "language": "python",
   "name": "python3"
  },
  "language_info": {
   "codemirror_mode": {
    "name": "ipython",
    "version": 3
   },
   "file_extension": ".py",
   "mimetype": "text/x-python",
   "name": "python",
   "nbconvert_exporter": "python",
   "pygments_lexer": "ipython3",
   "version": "3.7.3"
  }
 },
 "nbformat": 4,
 "nbformat_minor": 2
}
