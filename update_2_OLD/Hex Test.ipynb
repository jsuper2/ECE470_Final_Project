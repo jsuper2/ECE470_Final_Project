{
 "cells": [
  {
   "cell_type": "code",
   "execution_count": 1,
   "metadata": {},
   "outputs": [],
   "source": [
    "import vrep\n",
    "import time\n",
    "import numpy as np\n",
    "from math import cos, sin\n",
    "from scipy.linalg import expm,logm\n",
    "from copy import copy as copy\n",
    "import hex_helper as hh\n",
    "import step_3 as ss"
   ]
  },
  {
   "cell_type": "code",
   "execution_count": 2,
   "metadata": {},
   "outputs": [
    {
     "name": "stdout",
     "output_type": "stream",
     "text": [
      "0\n",
      "[[17, 19, 21], [28, 30, 32], [38, 40, 42], [48, 50, 52], [58, 60, 62], [68, 70, 72]] [24, 35, 45, 55, 65, 75, 27]\n"
     ]
    }
   ],
   "source": [
    "# ======================================================================================================= #\n",
    "# ======================================= Start Simulation ============================================== #\n",
    "# ======================================================================================================= #\n",
    "\n",
    "# Close all open connections (Clear bad cache)\n",
    "vrep.simxFinish(-1)\n",
    "# Connect to V-REP (raise exception on failure)\n",
    "clientID = vrep.simxStart('127.0.0.1', 19997, True, True, 5000, 5)\n",
    "if clientID == -1:\n",
    "\traise Exception('Failed connecting to remote API server')\n",
    "\n",
    "print(clientID)\n",
    "# ======================================== Setup \"handle\"  =========================================== #\n",
    "handles, body_handles = hh.init_handles(clientID)\n",
    "\n",
    "# ======================================== Get a joint angle  ======================================== #\n",
    "# result, theta1 = vrep.simxGetJointPosition(clientID, handles[0][1], vrep.simx_opmode_blocking)\n",
    "# if result != vrep.simx_return_ok:\n",
    "#     raise Exception('could not get 1 joint variable')\n",
    "#\n",
    "# print(theta1)\n",
    "#\n",
    "# print(vrep.getJointMode(handles[0][0]))"
   ]
  },
  {
   "cell_type": "code",
   "execution_count": 4,
   "metadata": {},
   "outputs": [
    {
     "ename": "TypeError",
     "evalue": "'float' object is not subscriptable",
     "output_type": "error",
     "traceback": [
      "\u001b[1;31m---------------------------------------------------------------------------\u001b[0m",
      "\u001b[1;31mTypeError\u001b[0m                                 Traceback (most recent call last)",
      "\u001b[1;32m<ipython-input-4-8ef3b3015e42>\u001b[0m in \u001b[0;36m<module>\u001b[1;34m\u001b[0m\n\u001b[0;32m     23\u001b[0m \u001b[1;33m\u001b[0m\u001b[0m\n\u001b[0;32m     24\u001b[0m \u001b[1;32mfor\u001b[0m \u001b[0mi\u001b[0m \u001b[1;32min\u001b[0m \u001b[0mrange\u001b[0m\u001b[1;33m(\u001b[0m\u001b[1;36m15\u001b[0m\u001b[1;33m)\u001b[0m\u001b[1;33m:\u001b[0m\u001b[1;33m\u001b[0m\u001b[1;33m\u001b[0m\u001b[0m\n\u001b[1;32m---> 25\u001b[1;33m     \u001b[0mss\u001b[0m\u001b[1;33m.\u001b[0m\u001b[0mstep_3\u001b[0m\u001b[1;33m(\u001b[0m\u001b[1;33m[\u001b[0m\u001b[1;36m0.13086048\u001b[0m\u001b[1;33m,\u001b[0m\u001b[1;33m-\u001b[0m\u001b[1;36m0.13086048\u001b[0m\u001b[1;33m,\u001b[0m\u001b[1;33m-\u001b[0m\u001b[1;36m0.03120471\u001b[0m\u001b[1;33m]\u001b[0m\u001b[1;33m,\u001b[0m\u001b[0mclientID\u001b[0m\u001b[1;33m,\u001b[0m \u001b[0mhandles\u001b[0m\u001b[1;33m)\u001b[0m\u001b[1;33m\u001b[0m\u001b[1;33m\u001b[0m\u001b[0m\n\u001b[0m\u001b[0;32m     26\u001b[0m \u001b[1;31m# for i in range(20):\u001b[0m\u001b[1;33m\u001b[0m\u001b[1;33m\u001b[0m\u001b[1;33m\u001b[0m\u001b[0m\n\u001b[0;32m     27\u001b[0m \u001b[1;31m#     vrep.simxSetJointTargetPosition(clientID, handles[0][1], -1, vrep.simx_opmode_oneshot)\u001b[0m\u001b[1;33m\u001b[0m\u001b[1;33m\u001b[0m\u001b[1;33m\u001b[0m\u001b[0m\n",
      "\u001b[1;32m~\\OneDrive\\U of I\\Spring 2020\\ECE470\\ECE470_Final_Project\\update_2_OLD\\step_3.py\u001b[0m in \u001b[0;36mstep_3\u001b[1;34m(thetas, clientID, handles)\u001b[0m\n\u001b[0;32m     52\u001b[0m     \u001b[1;31m#print('step')\u001b[0m\u001b[1;33m\u001b[0m\u001b[1;33m\u001b[0m\u001b[1;33m\u001b[0m\u001b[0m\n\u001b[0;32m     53\u001b[0m     \u001b[1;31m#\u001b[0m\u001b[1;33m\u001b[0m\u001b[1;33m\u001b[0m\u001b[1;33m\u001b[0m\u001b[0m\n\u001b[1;32m---> 54\u001b[1;33m     \u001b[0mmove_leg\u001b[0m\u001b[1;33m(\u001b[0m\u001b[0mthetas\u001b[0m\u001b[1;33m[\u001b[0m\u001b[1;36m0\u001b[0m\u001b[1;33m]\u001b[0m\u001b[1;33m[\u001b[0m\u001b[1;36m1\u001b[0m\u001b[1;33m]\u001b[0m\u001b[1;33m,\u001b[0m\u001b[1;36m0\u001b[0m\u001b[1;33m,\u001b[0m\u001b[0mclientID\u001b[0m\u001b[1;33m,\u001b[0m\u001b[0mhandles\u001b[0m\u001b[1;33m)\u001b[0m\u001b[1;33m\u001b[0m\u001b[1;33m\u001b[0m\u001b[0m\n\u001b[0m\u001b[0;32m     55\u001b[0m     \u001b[0mmove_leg\u001b[0m\u001b[1;33m(\u001b[0m\u001b[0mthetas\u001b[0m\u001b[1;33m[\u001b[0m\u001b[1;36m2\u001b[0m\u001b[1;33m]\u001b[0m\u001b[1;33m[\u001b[0m\u001b[1;36m1\u001b[0m\u001b[1;33m]\u001b[0m\u001b[1;33m,\u001b[0m\u001b[1;36m2\u001b[0m\u001b[1;33m,\u001b[0m\u001b[0mclientID\u001b[0m\u001b[1;33m,\u001b[0m\u001b[0mhandles\u001b[0m\u001b[1;33m)\u001b[0m\u001b[1;33m\u001b[0m\u001b[1;33m\u001b[0m\u001b[0m\n\u001b[0;32m     56\u001b[0m     \u001b[0mmove_leg\u001b[0m\u001b[1;33m(\u001b[0m\u001b[0mthetas\u001b[0m\u001b[1;33m[\u001b[0m\u001b[1;36m4\u001b[0m\u001b[1;33m]\u001b[0m\u001b[1;33m[\u001b[0m\u001b[1;36m1\u001b[0m\u001b[1;33m]\u001b[0m\u001b[1;33m,\u001b[0m\u001b[1;36m4\u001b[0m\u001b[1;33m,\u001b[0m\u001b[0mclientID\u001b[0m\u001b[1;33m,\u001b[0m\u001b[0mhandles\u001b[0m\u001b[1;33m)\u001b[0m\u001b[1;33m\u001b[0m\u001b[1;33m\u001b[0m\u001b[0m\n",
      "\u001b[1;31mTypeError\u001b[0m: 'float' object is not subscriptable"
     ]
    }
   ],
   "source": [
    "# Close all open connections (Clear bad cache)\n",
    "vrep.simxFinish(-1)\n",
    "# Connect to V-REP (raise exception on failure)\n",
    "clientID = vrep.simxStart('127.0.0.1', 19997, True, True, 5000, 5)\n",
    "if clientID == -1:\n",
    "\traise Exception('Failed connecting to remote API server')\n",
    "\n",
    "# Start simulation\n",
    "vrep.simxStartSimulation(clientID, vrep.simx_opmode_oneshot)\n",
    "\n",
    "# ******************************** Your robot control code goes here  ******************************** #\n",
    "#print(get_joint(handles, body_handles))\n",
    "time.sleep(4)\n",
    "\n",
    "\n",
    "#vrep.simxSetJointTargetPosition(clientID, handles[5][2], 0, vrep.simx_opmode_oneshot)\n",
    "\n",
    "\n",
    "# for x in handles:\n",
    "#     for y in x:\n",
    "#         vrep.simxSetJointTargetPosition(clientID, y, 0, vrep.simx_opmode_oneshot)\n",
    "# time.sleep(2)\n",
    "    \n",
    "for i in range(15):\n",
    "    ss.step_3([0.13086048,-0.13086048,-0.03120471],clientID, handles)\n",
    "# for i in range(20):\n",
    "#     vrep.simxSetJointTargetPosition(clientID, handles[0][1], -1, vrep.simx_opmode_oneshot)\n",
    "#     vrep.simxSetJointTargetPosition(clientID, handles[5][1], -1, vrep.simx_opmode_oneshot)\n",
    "#     time.sleep(.2)\n",
    "#     vrep.simxSetJointTargetPosition(clientID, handles[0][2], 2, vrep.simx_opmode_oneshot)\n",
    "#     vrep.simxSetJointTargetPosition(clientID, handles[5][2], 2, vrep.simx_opmode_oneshot)\n",
    "#     time.sleep(.2)\n",
    "#     vrep.simxSetJointTargetPosition(clientID, handles[0][1], 0, vrep.simx_opmode_oneshot)\n",
    "#     vrep.simxSetJointTargetPosition(clientID, handles[5][1], 0, vrep.simx_opmode_oneshot)\n",
    "#     time.sleep(.2)\n",
    "#     vrep.simxSetJointTargetPosition(clientID, handles[0][2], 0, vrep.simx_opmode_oneshot)\n",
    "#     vrep.simxSetJointTargetPosition(clientID, handles[5][2], 0, vrep.simx_opmode_oneshot)\n",
    "#     time.sleep(.2)\n",
    "# time.sleep(2)\n",
    "\n",
    "\n",
    "# Stop simulation\n",
    "vrep.simxStopSimulation(clientID, vrep.simx_opmode_oneshot)\n",
    "# Before closing the connection to V-REP, make sure that the last command sent out had time to arrive. You can guarantee this with (for example):\n",
    "vrep.simxGetPingTime(clientID)\n",
    "# Close the connection to V-REP\n",
    "vrep.simxFinish(clientID)\n",
    "print(\"==================== ** Simulation Ended ** ====================\")\n",
    "\n",
    "# ======================================================================================================= #\n",
    "# ======================================== End Simulation =============================================== #\n",
    "# ======================================================================================================= #"
   ]
  },
  {
   "cell_type": "code",
   "execution_count": null,
   "metadata": {},
   "outputs": [],
   "source": [
    "a1 = np.array([0.08000001311302185, 0.0, 0.003102347254753113])\n",
    "a2 = np.array([0.130264550447464, -5.960464477539063e-08, -0.00809653103351593])\n",
    "a3 = np.array([0.19294512271881104, -5.960464477539063e-08, 0.028100647032260895])\n",
    "a4 = np.array([0.20402440428733826, -5.125999450683594e-06, -0.08788306266069412])\n",
    "\n",
    "l2 = np.linalg.norm(a2-a1)\n",
    "print(l2)\n",
    "l3 = np.linalg.norm(a3-a2)\n",
    "print(l3)\n",
    "le = np.linalg.norm(a4-a3)\n",
    "print(le)"
   ]
  },
  {
   "cell_type": "code",
   "execution_count": null,
   "metadata": {},
   "outputs": [],
   "source": []
  }
 ],
 "metadata": {
  "kernelspec": {
   "display_name": "Python 3",
   "language": "python",
   "name": "python3"
  },
  "language_info": {
   "codemirror_mode": {
    "name": "ipython",
    "version": 3
   },
   "file_extension": ".py",
   "mimetype": "text/x-python",
   "name": "python",
   "nbconvert_exporter": "python",
   "pygments_lexer": "ipython3",
   "version": "3.7.3"
  }
 },
 "nbformat": 4,
 "nbformat_minor": 2
}
