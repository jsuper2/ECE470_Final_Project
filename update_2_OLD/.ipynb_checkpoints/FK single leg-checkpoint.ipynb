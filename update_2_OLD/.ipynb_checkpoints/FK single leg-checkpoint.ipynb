{
 "cells": [
  {
   "cell_type": "code",
   "execution_count": 3,
   "metadata": {},
   "outputs": [],
   "source": [
    "import numpy as np"
   ]
  },
  {
   "cell_type": "code",
   "execution_count": 7,
   "metadata": {},
   "outputs": [],
   "source": [
    "l1 = 0\n",
    "l2 = 1\n",
    "l3 = 1\n",
    "le = 2\n",
    "theta1 = 45\n",
    "theta2 = 45\n",
    "theta3 = 90\n",
    "h1 = 0\n",
    "de = 0\n",
    "phi = 0"
   ]
  },
  {
   "cell_type": "code",
   "execution_count": 4,
   "metadata": {},
   "outputs": [],
   "source": [
    "R01 = np.array([[np.cos(theta1+phi),-np.sin(theta1+phi),0],[np.sin(theta1+phi),np.cos(theta1+phi),0],[0,0,1]])\n",
    "T01 = np.array([l1*np.cos(phi),l1*np.sin(phi),h1])\n",
    "\n",
    "R12 = np.array([[1,0,0],[0,np.cos(theta2),-np.sin(theta2)],[0,np.sin(theta2),np.cos(theta2)]])\n",
    "T12 = np.array([0,-l2,0])\n",
    "\n",
    "R23 = np.array([[1,0,0],[0,np.cos(-theta3),-np.sin(theta3)],[0,np.sin(-theta3),np.cos(-theta3)]])\n",
    "T23 = np.array([[0,-l3,0]])\n",
    "\n",
    "R3e = np.array([[1,0,0],[0,0,-1],[0,1,0]])\n",
    "T3e = np.array([[0,-le,de]])"
   ]
  },
  {
   "cell_type": "code",
   "execution_count": 6,
   "metadata": {},
   "outputs": [
    {
     "data": {
      "text/plain": [
       "0.8939966636005579"
      ]
     },
     "execution_count": 6,
     "metadata": {},
     "output_type": "execute_result"
    }
   ],
   "source": []
  },
  {
   "cell_type": "code",
   "execution_count": null,
   "metadata": {},
   "outputs": [],
   "source": []
  }
 ],
 "metadata": {
  "kernelspec": {
   "display_name": "Python 3",
   "language": "python",
   "name": "python3"
  },
  "language_info": {
   "codemirror_mode": {
    "name": "ipython",
    "version": 3
   },
   "file_extension": ".py",
   "mimetype": "text/x-python",
   "name": "python",
   "nbconvert_exporter": "python",
   "pygments_lexer": "ipython3",
   "version": "3.7.3"
  }
 },
 "nbformat": 4,
 "nbformat_minor": 2
}
